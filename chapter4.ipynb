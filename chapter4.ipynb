{
 "cells": [
  {
   "cell_type": "markdown",
   "metadata": {},
   "source": [
    "# MNISTデータのインポート"
   ]
  },
  {
   "cell_type": "code",
   "execution_count": 5,
   "metadata": {},
   "outputs": [],
   "source": [
    "from tensorflow.python.keras.datasets import mnist\n",
    "\n",
    "(x_train, y_train), (x_test, y_test) = mnist.load_data()"
   ]
  },
  {
   "cell_type": "code",
   "execution_count": 6,
   "metadata": {},
   "outputs": [
    {
     "name": "stdout",
     "output_type": "stream",
     "text": [
      "x_train.shape: (60000, 28, 28)\n",
      "x_test.shape: (10000, 28, 28)\n",
      "y_train.shape: (60000,)\n",
      "y_test.shape: (10000,)\n"
     ]
    }
   ],
   "source": [
    "# インポートしたデータの形を確認\n",
    "print('x_train.shape:', x_train.shape)\n",
    "print('x_test.shape:', x_test.shape)\n",
    "print('y_train.shape:', y_train.shape)\n",
    "print('y_test.shape:', y_test.shape)"
   ]
  },
  {
   "cell_type": "code",
   "execution_count": 7,
   "metadata": {},
   "outputs": [],
   "source": [
    "x_train = x_train.reshape(60000, 784)\n",
    "x_train = x_train/255.\n",
    "x_test = x_test.reshape(10000, 784)\n",
    "x_test = x_test/255."
   ]
  },
  {
   "cell_type": "code",
   "execution_count": 8,
   "metadata": {},
   "outputs": [],
   "source": [
    "from tensorflow.python.keras.utils import to_categorical\n",
    "\n",
    "y_train = to_categorical(y_train, 10)\n",
    "y_test = to_categorical(y_test, 10)"
   ]
  },
  {
   "cell_type": "code",
   "execution_count": 12,
   "metadata": {},
   "outputs": [],
   "source": [
    "from tensorflow.python.keras.models import Sequential\n",
    "\n",
    "model = Sequential()"
   ]
  },
  {
   "cell_type": "code",
   "execution_count": 15,
   "metadata": {},
   "outputs": [],
   "source": [
    "from tensorflow.python.keras.layers import Dense\n",
    "\n",
    "model.add(\n",
    "    Dense(\n",
    "        units=64,\n",
    "        input_shape=(784,),\n",
    "        activation='relu'\n",
    "    )\n",
    ")"
   ]
  },
  {
   "cell_type": "code",
   "execution_count": 16,
   "metadata": {},
   "outputs": [],
   "source": [
    "model.add(\n",
    "    Dense(\n",
    "        units=10,\n",
    "        activation='softmax'\n",
    "    )\n",
    ")"
   ]
  },
  {
   "cell_type": "code",
   "execution_count": 19,
   "metadata": {},
   "outputs": [
    {
     "name": "stdout",
     "output_type": "stream",
     "text": [
      "WARNING:tensorflow:From C:\\Users\\syabo\\Anaconda3\\envs\\tensorflow\\lib\\site-packages\\tensorflow\\python\\keras\\_impl\\keras\\backend.py:3086: calling reduce_sum (from tensorflow.python.ops.math_ops) with keep_dims is deprecated and will be removed in a future version.\n",
      "Instructions for updating:\n",
      "keep_dims is deprecated, use keepdims instead\n",
      "WARNING:tensorflow:From C:\\Users\\syabo\\Anaconda3\\envs\\tensorflow\\lib\\site-packages\\tensorflow\\python\\keras\\_impl\\keras\\backend.py:1557: calling reduce_mean (from tensorflow.python.ops.math_ops) with keep_dims is deprecated and will be removed in a future version.\n",
      "Instructions for updating:\n",
      "keep_dims is deprecated, use keepdims instead\n",
      "Train on 48000 samples, validate on 12000 samples\n",
      "Epoch 1/20\n",
      "48000/48000 [==============================]48000/48000 [==============================] - 2s 40us/step - loss: 0.3313 - acc: 0.9068 - val_loss: 0.1801 - val_acc: 0.9494\n",
      "\n",
      "Epoch 2/20\n",
      "48000/48000 [==============================]48000/48000 [==============================] - 2s 38us/step - loss: 0.1615 - acc: 0.9527 - val_loss: 0.1430 - val_acc: 0.9583\n",
      "\n",
      "Epoch 3/20\n",
      "48000/48000 [==============================]48000/48000 [==============================] - 2s 36us/step - loss: 0.1171 - acc: 0.9657 - val_loss: 0.1120 - val_acc: 0.9674\n",
      "\n",
      "Epoch 4/20\n",
      "48000/48000 [==============================]48000/48000 [==============================] - 2s 37us/step - loss: 0.0912 - acc: 0.9735 - val_loss: 0.1041 - val_acc: 0.9692\n",
      "\n",
      "Epoch 5/20\n",
      "48000/48000 [==============================]48000/48000 [==============================] - 2s 37us/step - loss: 0.0745 - acc: 0.9778 - val_loss: 0.1000 - val_acc: 0.9699\n",
      "\n",
      "Epoch 6/20\n",
      "48000/48000 [==============================]48000/48000 [==============================] - 2s 37us/step - loss: 0.0629 - acc: 0.9813 - val_loss: 0.1015 - val_acc: 0.9704\n",
      "\n",
      "Epoch 7/20\n",
      "48000/48000 [==============================]48000/48000 [==============================] - 2s 39us/step - loss: 0.0534 - acc: 0.9840 - val_loss: 0.1015 - val_acc: 0.9701\n",
      "\n",
      "Epoch 8/20\n",
      "48000/48000 [==============================]48000/48000 [==============================] - 2s 38us/step - loss: 0.0449 - acc: 0.9860 - val_loss: 0.0962 - val_acc: 0.9728\n",
      "\n",
      "Epoch 9/20\n",
      "48000/48000 [==============================]48000/48000 [==============================] - 2s 39us/step - loss: 0.0392 - acc: 0.9885 - val_loss: 0.0969 - val_acc: 0.9722\n",
      "\n",
      "Epoch 10/20\n",
      "48000/48000 [==============================]48000/48000 [==============================] - 2s 39us/step - loss: 0.0351 - acc: 0.9890 - val_loss: 0.0983 - val_acc: 0.9718\n",
      "\n",
      "Epoch 11/20\n",
      "48000/48000 [==============================]48000/48000 [==============================] - 2s 37us/step - loss: 0.0288 - acc: 0.9914 - val_loss: 0.0946 - val_acc: 0.9737\n",
      "\n",
      "Epoch 12/20\n",
      "48000/48000 [==============================]48000/48000 [==============================] - 2s 37us/step - loss: 0.0255 - acc: 0.9922 - val_loss: 0.0988 - val_acc: 0.9734\n",
      "\n",
      "Epoch 13/20\n",
      "48000/48000 [==============================]48000/48000 [==============================] - 2s 37us/step - loss: 0.0225 - acc: 0.9936 - val_loss: 0.1113 - val_acc: 0.9723\n",
      "\n",
      "Epoch 14/20\n",
      "48000/48000 [==============================]48000/48000 [==============================] - 2s 37us/step - loss: 0.0200 - acc: 0.9938 - val_loss: 0.1009 - val_acc: 0.9741\n",
      "\n",
      "Epoch 15/20\n",
      "48000/48000 [==============================]48000/48000 [==============================] - 2s 37us/step - loss: 0.0172 - acc: 0.9948 - val_loss: 0.1036 - val_acc: 0.9743\n",
      "\n",
      "Epoch 16/20\n",
      "48000/48000 [==============================]48000/48000 [==============================] - 2s 37us/step - loss: 0.0144 - acc: 0.9962 - val_loss: 0.1032 - val_acc: 0.9739\n",
      "\n",
      "Epoch 17/20\n",
      "48000/48000 [==============================]48000/48000 [==============================] - 2s 37us/step - loss: 0.0129 - acc: 0.9967 - val_loss: 0.1077 - val_acc: 0.9741\n",
      "\n",
      "Epoch 18/20\n",
      "48000/48000 [==============================]48000/48000 [==============================] - 2s 38us/step - loss: 0.0120 - acc: 0.9966 - val_loss: 0.1168 - val_acc: 0.9738\n",
      "\n",
      "Epoch 19/20\n",
      "48000/48000 [==============================]48000/48000 [==============================] - 2s 38us/step - loss: 0.0114 - acc: 0.9969 - val_loss: 0.1114 - val_acc: 0.9754\n",
      "\n",
      "Epoch 20/20\n",
      "48000/48000 [==============================]48000/48000 [==============================] - 2s 39us/step - loss: 0.0087 - acc: 0.9980 - val_loss: 0.1198 - val_acc: 0.9731\n",
      "\n"
     ]
    }
   ],
   "source": [
    "from tensorflow.python.keras.callbacks import TensorBoard\n",
    "\n",
    "model.compile(\n",
    "    optimizer='adam',\n",
    "    loss='categorical_crossentropy',\n",
    "    metrics=['accuracy']\n",
    ")\n",
    "tsb=TensorBoard(log_dir='./logs')\n",
    "history_adam=model.fit(\n",
    "    x_train,\n",
    "    y_train,\n",
    "    batch_size=32,\n",
    "    epochs=20,\n",
    "    validation_split=0.2,\n",
    "    callbacks=[tsb]\n",
    ")"
   ]
  },
  {
   "cell_type": "code",
   "execution_count": 22,
   "metadata": {},
   "outputs": [],
   "source": [
    "from tensorflow.python.keras.datasets import mnist\n",
    "from tensorflow.python.keras.utils import to_categorical\n",
    "from tensorflow.python.keras.layers import Input, Dense\n",
    "from tensorflow.python.keras.models import Model\n",
    "\n",
    "(x_train, y_train), (x_test, y_test) = mnist.load_data()\n",
    "x_train = x_train.reshape(60000, 784)\n",
    "x_train = x_train/255.\n",
    "x_test = x_test.reshape(10000, 784)\n",
    "x_test = x_test/255.\n",
    "y_train = to_categorical(y_train, 10)\n",
    "y_test = to_categorical(y_test, 10)\n",
    "tsb = TensorBoard(log_dir='./logs')"
   ]
  },
  {
   "cell_type": "code",
   "execution_count": 23,
   "metadata": {},
   "outputs": [],
   "source": [
    "input = Input(shape=(784, ))\n",
    "middle = Dense(units=64, activation='relu')(input)\n",
    "output = Dense(units=10, activation='softmax')(middle)\n",
    "model = Model(inputs=[input], outputs=[output])"
   ]
  },
  {
   "cell_type": "code",
   "execution_count": 24,
   "metadata": {},
   "outputs": [],
   "source": [
    "model.compile(\n",
    "    optimizer='adam',\n",
    "    loss='categorical_crossentropy',\n",
    "    metrics=['accuracy']\n",
    ")"
   ]
  },
  {
   "cell_type": "code",
   "execution_count": 26,
   "metadata": {},
   "outputs": [
    {
     "name": "stdout",
     "output_type": "stream",
     "text": [
      "Train on 48000 samples, validate on 12000 samples\n",
      "Epoch 1/20\n",
      "48000/48000 [==============================]48000/48000 [==============================] - 2s 40us/step - loss: 0.3357 - acc: 0.9042 - val_loss: 0.1869 - val_acc: 0.9469\n",
      "\n",
      "Epoch 2/20\n",
      "48000/48000 [==============================]48000/48000 [==============================] - 2s 38us/step - loss: 0.1642 - acc: 0.9519 - val_loss: 0.1486 - val_acc: 0.9574\n",
      "\n",
      "Epoch 3/20\n",
      "48000/48000 [==============================]48000/48000 [==============================] - 2s 38us/step - loss: 0.1215 - acc: 0.9645 - val_loss: 0.1297 - val_acc: 0.9637\n",
      "\n",
      "Epoch 4/20\n",
      "48000/48000 [==============================]48000/48000 [==============================] - 2s 39us/step - loss: 0.0959 - acc: 0.9718 - val_loss: 0.1157 - val_acc: 0.9656\n",
      "\n",
      "Epoch 5/20\n",
      "48000/48000 [==============================]48000/48000 [==============================] - 2s 39us/step - loss: 0.0792 - acc: 0.9762 - val_loss: 0.1003 - val_acc: 0.9696\n",
      "\n",
      "Epoch 6/20\n",
      "48000/48000 [==============================]48000/48000 [==============================] - 2s 38us/step - loss: 0.0655 - acc: 0.9800 - val_loss: 0.1028 - val_acc: 0.9698\n",
      "\n",
      "Epoch 7/20\n",
      "48000/48000 [==============================]48000/48000 [==============================] - 2s 38us/step - loss: 0.0555 - acc: 0.9835 - val_loss: 0.1055 - val_acc: 0.9673\n",
      "\n",
      "Epoch 8/20\n",
      "48000/48000 [==============================]48000/48000 [==============================] - 2s 38us/step - loss: 0.0468 - acc: 0.9860 - val_loss: 0.0931 - val_acc: 0.9724\n",
      "\n",
      "Epoch 9/20\n",
      "48000/48000 [==============================]48000/48000 [==============================] - 2s 40us/step - loss: 0.0401 - acc: 0.9881 - val_loss: 0.0969 - val_acc: 0.9720\n",
      "\n",
      "Epoch 10/20\n",
      "48000/48000 [==============================]48000/48000 [==============================] - 2s 38us/step - loss: 0.0331 - acc: 0.9903 - val_loss: 0.1052 - val_acc: 0.9692\n",
      "\n",
      "Epoch 11/20\n",
      "48000/48000 [==============================]48000/48000 [==============================] - 2s 38us/step - loss: 0.0294 - acc: 0.9913 - val_loss: 0.0949 - val_acc: 0.9730\n",
      "\n",
      "Epoch 12/20\n",
      "48000/48000 [==============================]48000/48000 [==============================] - 2s 37us/step - loss: 0.0258 - acc: 0.9923 - val_loss: 0.1054 - val_acc: 0.9698\n",
      "\n",
      "Epoch 13/20\n",
      "48000/48000 [==============================]48000/48000 [==============================] - 2s 38us/step - loss: 0.0225 - acc: 0.9935 - val_loss: 0.1022 - val_acc: 0.9728\n",
      "\n",
      "Epoch 14/20\n",
      "48000/48000 [==============================]48000/48000 [==============================] - 2s 38us/step - loss: 0.0194 - acc: 0.9947 - val_loss: 0.1024 - val_acc: 0.9719\n",
      "\n",
      "Epoch 15/20\n",
      "48000/48000 [==============================]48000/48000 [==============================] - 2s 38us/step - loss: 0.0178 - acc: 0.9948 - val_loss: 0.1045 - val_acc: 0.9725\n",
      "\n",
      "Epoch 16/20\n",
      "48000/48000 [==============================]48000/48000 [==============================] - 2s 38us/step - loss: 0.0150 - acc: 0.9958 - val_loss: 0.1087 - val_acc: 0.9729\n",
      "\n",
      "Epoch 17/20\n",
      "48000/48000 [==============================]48000/48000 [==============================] - 2s 38us/step - loss: 0.0130 - acc: 0.9966 - val_loss: 0.1042 - val_acc: 0.9736\n",
      "\n",
      "Epoch 18/20\n",
      "48000/48000 [==============================]48000/48000 [==============================] - 2s 38us/step - loss: 0.0131 - acc: 0.9963 - val_loss: 0.1111 - val_acc: 0.9726\n",
      "\n",
      "Epoch 19/20\n",
      "48000/48000 [==============================]48000/48000 [==============================] - 2s 38us/step - loss: 0.0105 - acc: 0.9974 - val_loss: 0.1109 - val_acc: 0.9732\n",
      "\n",
      "Epoch 20/20\n",
      "48000/48000 [==============================]48000/48000 [==============================] - 2s 39us/step - loss: 0.0099 - acc: 0.9975 - val_loss: 0.1191 - val_acc: 0.9712\n",
      "\n"
     ]
    },
    {
     "data": {
      "text/plain": [
       "<tensorflow.python.keras._impl.keras.callbacks.History at 0x21ff06fa358>"
      ]
     },
     "execution_count": 26,
     "metadata": {},
     "output_type": "execute_result"
    }
   ],
   "source": [
    "model.fit(\n",
    "    x_train,\n",
    "    y_train,\n",
    "    batch_size=32,\n",
    "    epochs=20,\n",
    "    callbacks=[tsb],\n",
    "    validation_split=0.2\n",
    ")"
   ]
  },
  {
   "cell_type": "code",
   "execution_count": null,
   "metadata": {},
   "outputs": [],
   "source": []
  }
 ],
 "metadata": {
  "kernelspec": {
   "display_name": "Python 3",
   "language": "python",
   "name": "python3"
  },
  "language_info": {
   "codemirror_mode": {
    "name": "ipython",
    "version": 3
   },
   "file_extension": ".py",
   "mimetype": "text/x-python",
   "name": "python",
   "nbconvert_exporter": "python",
   "pygments_lexer": "ipython3",
   "version": "3.5.5"
  }
 },
 "nbformat": 4,
 "nbformat_minor": 2
}
